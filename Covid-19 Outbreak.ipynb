{
 "cells": [
  {
   "cell_type": "markdown",
   "metadata": {
    "collapsed": true
   },
   "source": [
    "# Covid-19 Outbreak exploring project"
   ]
  },
  {
   "cell_type": "markdown",
   "metadata": {},
   "source": [
    "#  Introduction/Business Problem"
   ]
  },
  {
   "cell_type": "markdown",
   "metadata": {},
   "source": [
    "## Business problem:\n",
    "Covid-19 in Cairo.\n",
    "\n",
    "## Introduction:\n",
    "The idea of the project is to guide the Egyptian government to the areas with the highest probability of Covid-19 virus spread. \n",
    "This project should give suggestions to these areas to do Covid-19 massive scans, hence help to slow down the spread rate of Covid-19 virus."
   ]
  },
  {
   "cell_type": "markdown",
   "metadata": {},
   "source": [
    "## Step.1\n",
    "Gathering data about Cairo districts/neighborhoods and population grouped by the existing governorates in Great Cairo "
   ]
  },
  {
   "cell_type": "markdown",
   "metadata": {},
   "source": [
    "## Step.2\n",
    "Exploring each Neighborhood by using Foursquare API."
   ]
  },
  {
   "cell_type": "markdown",
   "metadata": {},
   "source": [
    "## Step.3\n",
    "Analyzing the results of the Foursquare API to find the most popular places taking into consideration the population data in step.1"
   ]
  },
  {
   "cell_type": "markdown",
   "metadata": {},
   "source": [
    "## Step.4\n",
    "Output: Suggesting the areas with the highest probability of Covid-19 virus spread."
   ]
  }
 ],
 "metadata": {
  "kernelspec": {
   "display_name": "Python 3.6",
   "language": "python",
   "name": "python3"
  },
  "language_info": {
   "codemirror_mode": {
    "name": "ipython",
    "version": 3
   },
   "file_extension": ".py",
   "mimetype": "text/x-python",
   "name": "python",
   "nbconvert_exporter": "python",
   "pygments_lexer": "ipython3",
   "version": "3.6.9"
  }
 },
 "nbformat": 4,
 "nbformat_minor": 1
}
