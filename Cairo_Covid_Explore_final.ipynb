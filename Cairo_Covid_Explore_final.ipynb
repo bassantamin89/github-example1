{
 "cells": [
  {
   "cell_type": "markdown",
   "metadata": {
    "collapsed": true
   },
   "source": [
    "# Part 1:"
   ]
  },
  {
   "cell_type": "markdown",
   "metadata": {},
   "source": [
    "## 1- Importing the necessary libraries"
   ]
  },
  {
   "cell_type": "code",
   "execution_count": 284,
   "metadata": {},
   "outputs": [],
   "source": [
    "import pandas as pd\n",
    "import numpy as np"
   ]
  },
  {
   "cell_type": "markdown",
   "metadata": {},
   "source": [
    "## 2- Reading the HTML table from the population website to a pandas dataframe"
   ]
  },
  {
   "cell_type": "code",
   "execution_count": 285,
   "metadata": {},
   "outputs": [
    {
     "data": {
      "text/html": [
       "<div>\n",
       "<style scoped>\n",
       "    .dataframe tbody tr th:only-of-type {\n",
       "        vertical-align: middle;\n",
       "    }\n",
       "\n",
       "    .dataframe tbody tr th {\n",
       "        vertical-align: top;\n",
       "    }\n",
       "\n",
       "    .dataframe thead th {\n",
       "        text-align: right;\n",
       "    }\n",
       "</style>\n",
       "<table border=\"1\" class=\"dataframe\">\n",
       "  <thead>\n",
       "    <tr style=\"text-align: right;\">\n",
       "      <th></th>\n",
       "      <th>Neighborhood</th>\n",
       "      <th>Governorate</th>\n",
       "      <th>Population</th>\n",
       "    </tr>\n",
       "  </thead>\n",
       "  <tbody>\n",
       "    <tr>\n",
       "      <th>0</th>\n",
       "      <td>15 Māyū [15th of May City]</td>\n",
       "      <td>Al-Qāhirah</td>\n",
       "      <td>96522</td>\n",
       "    </tr>\n",
       "    <tr>\n",
       "      <th>1</th>\n",
       "      <td>'Ābidīn</td>\n",
       "      <td>Al-Qāhirah</td>\n",
       "      <td>41605</td>\n",
       "    </tr>\n",
       "    <tr>\n",
       "      <th>2</th>\n",
       "      <td>Ad-Darb al-Aḥmar</td>\n",
       "      <td>Al-Qāhirah</td>\n",
       "      <td>60336</td>\n",
       "    </tr>\n",
       "    <tr>\n",
       "      <th>3</th>\n",
       "      <td>Ad-Duqqī</td>\n",
       "      <td>Al-Jīzah</td>\n",
       "      <td>73309</td>\n",
       "    </tr>\n",
       "    <tr>\n",
       "      <th>4</th>\n",
       "      <td>'Ain Schams</td>\n",
       "      <td>Al-Qāhirah</td>\n",
       "      <td>633798</td>\n",
       "    </tr>\n",
       "  </tbody>\n",
       "</table>\n",
       "</div>"
      ],
      "text/plain": [
       "                 Neighborhood Governorate  Population\n",
       "0  15 Māyū [15th of May City]  Al-Qāhirah       96522\n",
       "1                     'Ābidīn  Al-Qāhirah       41605\n",
       "2            Ad-Darb al-Aḥmar  Al-Qāhirah       60336\n",
       "3                    Ad-Duqqī    Al-Jīzah       73309\n",
       "4                 'Ain Schams  Al-Qāhirah      633798"
      ]
     },
     "execution_count": 285,
     "metadata": {},
     "output_type": "execute_result"
    }
   ],
   "source": [
    "url_of_website = 'https://www.citypopulation.de/en/egypt/greatercairo/'\n",
    "column_names = ['Neighborhood', 'Governorate', 'Population'] \n",
    "\n",
    "# Initiating the dataframe\n",
    "Cairo_data_df = pd.DataFrame(columns=column_names)\n",
    "\n",
    "# Reading the HTML table from the website\n",
    "Cairo_data = pd.read_html(url_of_website)\n",
    "Cairo_data[0].drop(['Native','Status','PopulationCensus1996-11-19','PopulationCensus2006-11-11'],axis=1 , inplace=True)\n",
    "Cairo_data[0]\n",
    "Cairo_data_df['Governorate'] = Cairo_data[0]['Governorate']\n",
    "Cairo_data_df['Neighborhood'] = Cairo_data[0]['Name']\n",
    "Cairo_data_df['Population'] = Cairo_data[0]['PopulationEstimate2019-07-01']\n",
    "Cairo_data_df.dropna(axis=0, inplace=True)\n",
    "Cairo_data_df.head()\n"
   ]
  },
  {
   "cell_type": "markdown",
   "metadata": {},
   "source": [
    "## 4- Apply groupby ‘Governorate’ and summed by Population on the dataframe"
   ]
  },
  {
   "cell_type": "code",
   "execution_count": 286,
   "metadata": {},
   "outputs": [
    {
     "data": {
      "text/plain": [
       "Governorate\n",
       "Al-Jīzah         7056914\n",
       "Al-Qalyūbyah     3742834\n",
       "Al-Qāhirah       9840591\n",
       "Ash-Sharqiyah     234770\n",
       "Name: Population, dtype: int64"
      ]
     },
     "execution_count": 286,
     "metadata": {},
     "output_type": "execute_result"
    }
   ],
   "source": [
    "Cairo_data_df_new = Cairo_data_df.groupby('Governorate')['Population'].sum()\n",
    "Cairo_data_df_new"
   ]
  },
  {
   "cell_type": "code",
   "execution_count": 287,
   "metadata": {},
   "outputs": [
    {
     "data": {
      "text/html": [
       "<div>\n",
       "<style scoped>\n",
       "    .dataframe tbody tr th:only-of-type {\n",
       "        vertical-align: middle;\n",
       "    }\n",
       "\n",
       "    .dataframe tbody tr th {\n",
       "        vertical-align: top;\n",
       "    }\n",
       "\n",
       "    .dataframe thead th {\n",
       "        text-align: right;\n",
       "    }\n",
       "</style>\n",
       "<table border=\"1\" class=\"dataframe\">\n",
       "  <thead>\n",
       "    <tr style=\"text-align: right;\">\n",
       "      <th></th>\n",
       "      <th>Governorate</th>\n",
       "      <th>Population</th>\n",
       "    </tr>\n",
       "  </thead>\n",
       "  <tbody>\n",
       "    <tr>\n",
       "      <th>Al-Jīzah</th>\n",
       "      <td>Al-Jīzah</td>\n",
       "      <td>7056914</td>\n",
       "    </tr>\n",
       "    <tr>\n",
       "      <th>Al-Qalyūbyah</th>\n",
       "      <td>Al-Qalyūbyah</td>\n",
       "      <td>3742834</td>\n",
       "    </tr>\n",
       "    <tr>\n",
       "      <th>Al-Qāhirah</th>\n",
       "      <td>Al-Qāhirah</td>\n",
       "      <td>9840591</td>\n",
       "    </tr>\n",
       "    <tr>\n",
       "      <th>Ash-Sharqiyah</th>\n",
       "      <td>Ash-Sharqiyah</td>\n",
       "      <td>234770</td>\n",
       "    </tr>\n",
       "  </tbody>\n",
       "</table>\n",
       "</div>"
      ],
      "text/plain": [
       "                 Governorate  Population\n",
       "Al-Jīzah            Al-Jīzah     7056914\n",
       "Al-Qalyūbyah    Al-Qalyūbyah     3742834\n",
       "Al-Qāhirah        Al-Qāhirah     9840591\n",
       "Ash-Sharqiyah  Ash-Sharqiyah      234770"
      ]
     },
     "execution_count": 287,
     "metadata": {},
     "output_type": "execute_result"
    }
   ],
   "source": [
    "Population = Cairo_data_df_new\n",
    "Governorates = ['Al-Jīzah','Al-Qalyūbyah','Al-Qāhirah','Ash-Sharqiyah']\n",
    "Cairo_pop = pd.DataFrame({'Governorate': Governorates,\n",
    "                   'Population': Population}, index=Governorates)\n",
    "Cairo_pop"
   ]
  },
  {
   "cell_type": "markdown",
   "metadata": {},
   "source": [
    "## 5- Plot a bar chart for Governorates population in Cairo"
   ]
  },
  {
   "cell_type": "code",
   "execution_count": 288,
   "metadata": {},
   "outputs": [
    {
     "data": {
      "image/png": "[encoded data removed]",
      "text/plain": [
       "<Figure size 432x288 with 1 Axes>"
      ]
     },
     "metadata": {
      "needs_background": "light"
     },
     "output_type": "display_data"
    }
   ],
   "source": [
    "%matplotlib inline\n",
    "\n",
    "import matplotlib\n",
    "import numpy as np\n",
    "import matplotlib.pyplot as plt\n",
    "\n",
    "#objects = ('Python', 'C++', 'Java', 'Perl', 'Scala', 'Lisp')\n",
    "x_axis = np.arange(Cairo_pop['Governorate'].shape[0])\n",
    "#performance = [10,8,6,4,2,1]\n",
    "\n",
    "plt.bar(Cairo_pop['Governorate'], Cairo_pop['Population'], align='center')\n",
    "plt.xticks(x_axis, Cairo_pop['Governorate'])\n",
    "plt.xlabel('Governorate')\n",
    "plt.ylabel('Population')\n",
    "plt.title('Cairo Governorates Population')\n",
    "\n",
    "plt.show()"
   ]
  },
  {
   "cell_type": "markdown",
   "metadata": {},
   "source": [
    "## 6- Target the governorate with the highest population"
   ]
  },
  {
   "cell_type": "code",
   "execution_count": 230,
   "metadata": {},
   "outputs": [
    {
     "data": {
      "text/plain": [
       "'Al-Qāhirah'"
      ]
     },
     "execution_count": 230,
     "metadata": {},
     "output_type": "execute_result"
    }
   ],
   "source": [
    "Max_Gov = Cairo_pop.loc[Cairo_pop['Population'].idxmax()][0]\n",
    "Max_Gov"
   ]
  },
  {
   "cell_type": "markdown",
   "metadata": {},
   "source": [
    "## 7- Getting the neighborhoods data by using Foursquare"
   ]
  },
  {
   "cell_type": "code",
   "execution_count": 231,
   "metadata": {},
   "outputs": [
    {
     "name": "stdout",
     "output_type": "stream",
     "text": [
      "My credentails: ***\n",
      "CLIENT_ID: YFPJU4FUJISRJZFAC3CYM0XVD4SWBYMMLJYHRYDNJTFMPFV0\n",
      "CLIENT_SECRET:AXXB3G4UGM23JQGEBAXBQZHDQORPJBRN1EQJIAWNCI2XNATU\n"
     ]
    }
   ],
   "source": [
    "CLIENT_ID = 'YFPJU4FUJISRJZFAC3CYM0XVD4SWBYMMLJYHRYDNJTFMPFV0' # your Foursquare ID\n",
    "\n",
    "CLIENT_SECRET = 'AXXB3G4UGM23JQGEBAXBQZHDQORPJBRN1EQJIAWNCI2XNATU' # your Foursquare Secret\n",
    "\n",
    "VERSION = '20180605' # Foursquare API version\n",
    "\n",
    "print('My credentails: ***')\n",
    "\n",
    "print('CLIENT_ID: ' + CLIENT_ID)\n",
    "print('CLIENT_SECRET:' + CLIENT_SECRET)"
   ]
  },
  {
   "cell_type": "markdown",
   "metadata": {},
   "source": [
    "## 8- Use geocoder to get the coordinates of the highest populated governorate"
   ]
  },
  {
   "cell_type": "code",
   "execution_count": 233,
   "metadata": {},
   "outputs": [
    {
     "name": "stdout",
     "output_type": "stream",
     "text": [
      "The geograpical coordinate of Al-Qāhirah, Egypt is 30.048819, 31.243666.\n"
     ]
    }
   ],
   "source": [
    "from geopy.geocoders import Nominatim\n",
    "address=Max_Gov\n",
    "geolocator = Nominatim(user_agent=\"to_explorer\")\n",
    "location = geolocator.geocode(address)\n",
    "latitude = location.latitude\n",
    "longitude = location.longitude\n",
    "print('The geograpical coordinate of {}, Egypt is {}, {}.'.format(Max_Gov,latitude, longitude))"
   ]
  },
  {
   "cell_type": "code",
   "execution_count": 234,
   "metadata": {},
   "outputs": [
    {
     "data": {
      "text/plain": [
       "'https://api.foursquare.com/v2/venues/explore?&client_id=YFPJU4FUJISRJZFAC3CYM0XVD4SWBYMMLJYHRYDNJTFMPFV0&client_secret=AXXB3G4UGM23JQGEBAXBQZHDQORPJBRN1EQJIAWNCI2XNATU&v=20180605&ll=30.048819,31.243666&radius=500&limit=100'"
      ]
     },
     "execution_count": 234,
     "metadata": {},
     "output_type": "execute_result"
    }
   ],
   "source": [
    "gov_lat=latitude\n",
    "gov_lon=longitude\n",
    "LIMIT = 100\n",
    "radius = 500\n",
    "url = 'https://api.foursquare.com/v2/venues/explore?&client_id={}&client_secret={}&v={}&ll={},{}&radius={}&limit={}'.format(\n",
    "CLIENT_ID, \n",
    "CLIENT_SECRET, \n",
    "VERSION, \n",
    "gov_lat, \n",
    "gov_lon, \n",
    "radius, \n",
    "LIMIT)\n",
    "url"
   ]
  },
  {
   "cell_type": "code",
   "execution_count": 235,
   "metadata": {
    "scrolled": false
   },
   "outputs": [],
   "source": [
    "import json\n",
    "from pandas.io.json import json_normalize\n",
    "import requests\n",
    "results = requests.get(url).json()\n",
    "#results"
   ]
  },
  {
   "cell_type": "code",
   "execution_count": 278,
   "metadata": {},
   "outputs": [
    {
     "data": {
      "text/plain": [
       "'This spot is popular'"
      ]
     },
     "execution_count": 278,
     "metadata": {},
     "output_type": "execute_result"
    }
   ],
   "source": [
    "results['response']['groups'][0]\n",
    "results['response']['groups'][0]['items'][0]['reasons']['items'][0]['summary']"
   ]
  },
  {
   "cell_type": "code",
   "execution_count": 74,
   "metadata": {},
   "outputs": [],
   "source": [
    "#results['response']['groups'][0]['items']"
   ]
  },
  {
   "cell_type": "code",
   "execution_count": 236,
   "metadata": {},
   "outputs": [],
   "source": [
    "# function that extracts the category of the venue\n",
    "def get_category_type(row):\n",
    "    try:\n",
    "        categories_list = row['categories']\n",
    "    except:\n",
    "        categories_list = row['venue.categories']\n",
    "        \n",
    "    if len(categories_list) == 0:\n",
    "        return None\n",
    "    else:\n",
    "        return categories_list[0]['name']"
   ]
  },
  {
   "cell_type": "markdown",
   "metadata": {},
   "source": [
    "### A function which specifies if a certain venue is popular or not"
   ]
  },
  {
   "cell_type": "code",
   "execution_count": 280,
   "metadata": {},
   "outputs": [],
   "source": [
    "# function that tells is the Neighborhood is popular\n",
    "# Needs Modification\n",
    "def is_popular(row):\n",
    "    try:\n",
    "        popular_list = row['response']['groups'][0]['items'][0]['reasons']['items'][0]['summary']\n",
    "    except:\n",
    "        print('There is no information about the popularity of this place')\n",
    "        \n",
    "    if len(popular_list) == 0:\n",
    "        return None\n",
    "    else:\n",
    "        return popular_list"
   ]
  },
  {
   "cell_type": "code",
   "execution_count": 238,
   "metadata": {},
   "outputs": [],
   "source": [
    "#results['response']['groups'][0]['items'][0]['reasons']['items'][0]['summary']\n",
    "results['response']['groups'][0]['items']\n",
    "venues = results['response']['groups'][0]['items']\n",
    "venues\n",
    "nearby_venues = json_normalize(venues) # flatten JSON\n",
    "#nearby_venues"
   ]
  },
  {
   "cell_type": "markdown",
   "metadata": {},
   "source": [
    "## 9- Getting the data ready"
   ]
  },
  {
   "cell_type": "code",
   "execution_count": 246,
   "metadata": {},
   "outputs": [
    {
     "data": {
      "text/html": [
       "<div>\n",
       "<style scoped>\n",
       "    .dataframe tbody tr th:only-of-type {\n",
       "        vertical-align: middle;\n",
       "    }\n",
       "\n",
       "    .dataframe tbody tr th {\n",
       "        vertical-align: top;\n",
       "    }\n",
       "\n",
       "    .dataframe thead th {\n",
       "        text-align: right;\n",
       "    }\n",
       "</style>\n",
       "<table border=\"1\" class=\"dataframe\">\n",
       "  <thead>\n",
       "    <tr style=\"text-align: right;\">\n",
       "      <th></th>\n",
       "      <th>name</th>\n",
       "      <th>categories</th>\n",
       "      <th>lat</th>\n",
       "      <th>lng</th>\n",
       "      <th>items</th>\n",
       "    </tr>\n",
       "  </thead>\n",
       "  <tbody>\n",
       "    <tr>\n",
       "      <th>0</th>\n",
       "      <td>Halawa (حلاوه)</td>\n",
       "      <td>Clothing Store</td>\n",
       "      <td>30.050450</td>\n",
       "      <td>31.244201</td>\n",
       "      <td>[{'summary': 'This spot is popular', 'type': '...</td>\n",
       "    </tr>\n",
       "    <tr>\n",
       "      <th>1</th>\n",
       "      <td>Simonds</td>\n",
       "      <td>Coffee Shop</td>\n",
       "      <td>30.049971</td>\n",
       "      <td>31.242260</td>\n",
       "      <td>[{'summary': 'This spot is popular', 'type': '...</td>\n",
       "    </tr>\n",
       "    <tr>\n",
       "      <th>2</th>\n",
       "      <td>Happy City Roof Bar</td>\n",
       "      <td>Hotel Bar</td>\n",
       "      <td>30.046346</td>\n",
       "      <td>31.243932</td>\n",
       "      <td>[{'summary': 'This spot is popular', 'type': '...</td>\n",
       "    </tr>\n",
       "    <tr>\n",
       "      <th>3</th>\n",
       "      <td>Dar El Maaref (دار المعارف)</td>\n",
       "      <td>Bookstore</td>\n",
       "      <td>30.050467</td>\n",
       "      <td>31.242328</td>\n",
       "      <td>[{'summary': 'This spot is popular', 'type': '...</td>\n",
       "    </tr>\n",
       "    <tr>\n",
       "      <th>4</th>\n",
       "      <td>El Abd (العبد)</td>\n",
       "      <td>Pastry Shop</td>\n",
       "      <td>30.049617</td>\n",
       "      <td>31.239840</td>\n",
       "      <td>[{'summary': 'This spot is popular', 'type': '...</td>\n",
       "    </tr>\n",
       "    <tr>\n",
       "      <th>5</th>\n",
       "      <td>Costa Coffee</td>\n",
       "      <td>Coffee Shop</td>\n",
       "      <td>30.048983</td>\n",
       "      <td>31.242256</td>\n",
       "      <td>[{'summary': 'This spot is popular', 'type': '...</td>\n",
       "    </tr>\n",
       "    <tr>\n",
       "      <th>6</th>\n",
       "      <td>Kunst Gallery &amp; Cafe</td>\n",
       "      <td>Café</td>\n",
       "      <td>30.049947</td>\n",
       "      <td>31.242113</td>\n",
       "      <td>[{'summary': 'This spot is popular', 'type': '...</td>\n",
       "    </tr>\n",
       "    <tr>\n",
       "      <th>7</th>\n",
       "      <td>Al Gomhuria Theatre (مسرح الجمهورية)</td>\n",
       "      <td>Theater</td>\n",
       "      <td>30.046137</td>\n",
       "      <td>31.246186</td>\n",
       "      <td>[{'summary': 'This spot is popular', 'type': '...</td>\n",
       "    </tr>\n",
       "    <tr>\n",
       "      <th>8</th>\n",
       "      <td>Koshary El Tahrir (كشري التحرير)</td>\n",
       "      <td>Egyptian Restaurant</td>\n",
       "      <td>30.050429</td>\n",
       "      <td>31.240675</td>\n",
       "      <td>[{'summary': 'This spot is popular', 'type': '...</td>\n",
       "    </tr>\n",
       "    <tr>\n",
       "      <th>9</th>\n",
       "      <td>West El Balad</td>\n",
       "      <td>Café</td>\n",
       "      <td>30.047301</td>\n",
       "      <td>31.243266</td>\n",
       "      <td>[{'summary': 'This spot is popular', 'type': '...</td>\n",
       "    </tr>\n",
       "    <tr>\n",
       "      <th>10</th>\n",
       "      <td>El Abd (العبد)</td>\n",
       "      <td>Pastry Shop</td>\n",
       "      <td>30.052543</td>\n",
       "      <td>31.242388</td>\n",
       "      <td>[{'summary': 'This spot is popular', 'type': '...</td>\n",
       "    </tr>\n",
       "    <tr>\n",
       "      <th>11</th>\n",
       "      <td>Eish + Malh</td>\n",
       "      <td>Italian Restaurant</td>\n",
       "      <td>30.051188</td>\n",
       "      <td>31.243782</td>\n",
       "      <td>[{'summary': 'This spot is popular', 'type': '...</td>\n",
       "    </tr>\n",
       "    <tr>\n",
       "      <th>12</th>\n",
       "      <td>Koueider (قويدر)</td>\n",
       "      <td>Pastry Shop</td>\n",
       "      <td>30.051721</td>\n",
       "      <td>31.241295</td>\n",
       "      <td>[{'summary': 'This spot is popular', 'type': '...</td>\n",
       "    </tr>\n",
       "    <tr>\n",
       "      <th>13</th>\n",
       "      <td>El Duplex | Abla Fahita</td>\n",
       "      <td>Theater</td>\n",
       "      <td>30.048955</td>\n",
       "      <td>31.239014</td>\n",
       "      <td>[{'summary': 'This spot is popular', 'type': '...</td>\n",
       "    </tr>\n",
       "    <tr>\n",
       "      <th>14</th>\n",
       "      <td>Central Cairo (وسط مدينة القاهرة)</td>\n",
       "      <td>Neighborhood</td>\n",
       "      <td>30.050702</td>\n",
       "      <td>31.241150</td>\n",
       "      <td>[{'summary': 'This spot is popular', 'type': '...</td>\n",
       "    </tr>\n",
       "    <tr>\n",
       "      <th>15</th>\n",
       "      <td>Nile Cafe</td>\n",
       "      <td>Café</td>\n",
       "      <td>30.048450</td>\n",
       "      <td>31.242726</td>\n",
       "      <td>[{'summary': 'This spot is popular', 'type': '...</td>\n",
       "    </tr>\n",
       "    <tr>\n",
       "      <th>16</th>\n",
       "      <td>Fasahet Somaya (فسحة سمية)</td>\n",
       "      <td>Egyptian Restaurant</td>\n",
       "      <td>30.045950</td>\n",
       "      <td>31.240249</td>\n",
       "      <td>[{'summary': 'This spot is popular', 'type': '...</td>\n",
       "    </tr>\n",
       "    <tr>\n",
       "      <th>17</th>\n",
       "      <td>Baba Abdo Pasta (مكرونة بابا عبده)</td>\n",
       "      <td>Egyptian Restaurant</td>\n",
       "      <td>30.048856</td>\n",
       "      <td>31.240323</td>\n",
       "      <td>[{'summary': 'This spot is popular', 'type': '...</td>\n",
       "    </tr>\n",
       "    <tr>\n",
       "      <th>18</th>\n",
       "      <td>Cap D'Or</td>\n",
       "      <td>Bar</td>\n",
       "      <td>30.050376</td>\n",
       "      <td>31.243429</td>\n",
       "      <td>[{'summary': 'This spot is popular', 'type': '...</td>\n",
       "    </tr>\n",
       "    <tr>\n",
       "      <th>19</th>\n",
       "      <td>Kafein (كافيين)</td>\n",
       "      <td>Café</td>\n",
       "      <td>30.049993</td>\n",
       "      <td>31.242061</td>\n",
       "      <td>[{'summary': 'This spot is popular', 'type': '...</td>\n",
       "    </tr>\n",
       "    <tr>\n",
       "      <th>20</th>\n",
       "      <td>Contemporary Image Collective (CIC)</td>\n",
       "      <td>Art Gallery</td>\n",
       "      <td>30.050612</td>\n",
       "      <td>31.241486</td>\n",
       "      <td>[{'summary': 'This spot is popular', 'type': '...</td>\n",
       "    </tr>\n",
       "    <tr>\n",
       "      <th>21</th>\n",
       "      <td>Abdel Maaboud Coffee Stores (بن عبد المعبود ال...</td>\n",
       "      <td>Herbs &amp; Spices Store</td>\n",
       "      <td>30.045060</td>\n",
       "      <td>31.240909</td>\n",
       "      <td>[{'summary': 'This spot is popular', 'type': '...</td>\n",
       "    </tr>\n",
       "    <tr>\n",
       "      <th>22</th>\n",
       "      <td>Brazilian Coffee Houses</td>\n",
       "      <td>Coffee Shop</td>\n",
       "      <td>30.051145</td>\n",
       "      <td>31.240518</td>\n",
       "      <td>[{'summary': 'This spot is popular', 'type': '...</td>\n",
       "    </tr>\n",
       "    <tr>\n",
       "      <th>23</th>\n",
       "      <td>KFC</td>\n",
       "      <td>Fried Chicken Joint</td>\n",
       "      <td>30.050829</td>\n",
       "      <td>31.240622</td>\n",
       "      <td>[{'summary': 'This spot is popular', 'type': '...</td>\n",
       "    </tr>\n",
       "    <tr>\n",
       "      <th>24</th>\n",
       "      <td>Kazaz (القزاز)</td>\n",
       "      <td>Falafel Restaurant</td>\n",
       "      <td>30.047356</td>\n",
       "      <td>31.239167</td>\n",
       "      <td>[{'summary': 'This spot is popular', 'type': '...</td>\n",
       "    </tr>\n",
       "    <tr>\n",
       "      <th>25</th>\n",
       "      <td>El Gomhuria Restaurant (مطعم الجمهورية - حمام ...</td>\n",
       "      <td>Kebab Restaurant</td>\n",
       "      <td>30.045612</td>\n",
       "      <td>31.240067</td>\n",
       "      <td>[{'summary': 'This spot is popular', 'type': '...</td>\n",
       "    </tr>\n",
       "    <tr>\n",
       "      <th>26</th>\n",
       "      <td>Le Bistro</td>\n",
       "      <td>Bistro</td>\n",
       "      <td>30.045764</td>\n",
       "      <td>31.240550</td>\n",
       "      <td>[{'summary': 'This spot is popular', 'type': '...</td>\n",
       "    </tr>\n",
       "    <tr>\n",
       "      <th>27</th>\n",
       "      <td>Zahret Strand (زهرة ستراند)</td>\n",
       "      <td>Café</td>\n",
       "      <td>30.044468</td>\n",
       "      <td>31.242461</td>\n",
       "      <td>[{'summary': 'This spot is popular', 'type': '...</td>\n",
       "    </tr>\n",
       "    <tr>\n",
       "      <th>28</th>\n",
       "      <td>Groppi Garden (حديقة جروبي)</td>\n",
       "      <td>Tea Room</td>\n",
       "      <td>30.050876</td>\n",
       "      <td>31.245213</td>\n",
       "      <td>[{'summary': 'This spot is popular', 'type': '...</td>\n",
       "    </tr>\n",
       "    <tr>\n",
       "      <th>29</th>\n",
       "      <td>La Poire Cafe</td>\n",
       "      <td>Dessert Shop</td>\n",
       "      <td>30.050434</td>\n",
       "      <td>31.242612</td>\n",
       "      <td>[{'summary': 'This spot is popular', 'type': '...</td>\n",
       "    </tr>\n",
       "    <tr>\n",
       "      <th>30</th>\n",
       "      <td>100 Copies Space Music</td>\n",
       "      <td>Music Venue</td>\n",
       "      <td>30.049001</td>\n",
       "      <td>31.239026</td>\n",
       "      <td>[{'summary': 'This spot is popular', 'type': '...</td>\n",
       "    </tr>\n",
       "    <tr>\n",
       "      <th>31</th>\n",
       "      <td>South Corner (الركن الجنوبي)</td>\n",
       "      <td>Café</td>\n",
       "      <td>30.047521</td>\n",
       "      <td>31.241029</td>\n",
       "      <td>[{'summary': 'This spot is popular', 'type': '...</td>\n",
       "    </tr>\n",
       "    <tr>\n",
       "      <th>32</th>\n",
       "      <td>Opera Square (ميدان الأوبرا)</td>\n",
       "      <td>Plaza</td>\n",
       "      <td>30.050664</td>\n",
       "      <td>31.246756</td>\n",
       "      <td>[{'summary': 'This spot is popular', 'type': '...</td>\n",
       "    </tr>\n",
       "    <tr>\n",
       "      <th>33</th>\n",
       "      <td>McDonald's</td>\n",
       "      <td>Fast Food Restaurant</td>\n",
       "      <td>30.051956</td>\n",
       "      <td>31.241425</td>\n",
       "      <td>[{'summary': 'This spot is popular', 'type': '...</td>\n",
       "    </tr>\n",
       "    <tr>\n",
       "      <th>34</th>\n",
       "      <td>Recota (ريكوتا)</td>\n",
       "      <td>Pie Shop</td>\n",
       "      <td>30.047386</td>\n",
       "      <td>31.240361</td>\n",
       "      <td>[{'summary': 'This spot is popular', 'type': '...</td>\n",
       "    </tr>\n",
       "    <tr>\n",
       "      <th>35</th>\n",
       "      <td>Al Americaine (الأمريكين)</td>\n",
       "      <td>Café</td>\n",
       "      <td>30.052561</td>\n",
       "      <td>31.244304</td>\n",
       "      <td>[{'summary': 'This spot is popular', 'type': '...</td>\n",
       "    </tr>\n",
       "    <tr>\n",
       "      <th>36</th>\n",
       "      <td>La Chesa</td>\n",
       "      <td>Swiss Restaurant</td>\n",
       "      <td>30.051197</td>\n",
       "      <td>31.242703</td>\n",
       "      <td>[{'summary': 'This spot is popular', 'type': '...</td>\n",
       "    </tr>\n",
       "    <tr>\n",
       "      <th>37</th>\n",
       "      <td>Al Americaine (الأمريكين)</td>\n",
       "      <td>Café</td>\n",
       "      <td>30.052414</td>\n",
       "      <td>31.241670</td>\n",
       "      <td>[{'summary': 'This spot is popular', 'type': '...</td>\n",
       "    </tr>\n",
       "    <tr>\n",
       "      <th>38</th>\n",
       "      <td>Awan</td>\n",
       "      <td>Café</td>\n",
       "      <td>30.045621</td>\n",
       "      <td>31.241203</td>\n",
       "      <td>[{'summary': 'This spot is popular', 'type': '...</td>\n",
       "    </tr>\n",
       "    <tr>\n",
       "      <th>39</th>\n",
       "      <td>Mohamed Farid Sq (ميدان محمد فريد)</td>\n",
       "      <td>Plaza</td>\n",
       "      <td>30.045392</td>\n",
       "      <td>31.243947</td>\n",
       "      <td>[{'summary': 'This spot is popular', 'type': '...</td>\n",
       "    </tr>\n",
       "    <tr>\n",
       "      <th>40</th>\n",
       "      <td>Asmak El Nile (اسماك النيل)</td>\n",
       "      <td>Seafood Restaurant</td>\n",
       "      <td>30.045034</td>\n",
       "      <td>31.241362</td>\n",
       "      <td>[{'summary': 'This spot is popular', 'type': '...</td>\n",
       "    </tr>\n",
       "    <tr>\n",
       "      <th>41</th>\n",
       "      <td>Al Azhar Tunnel (نفق الأزهر)</td>\n",
       "      <td>Tunnel</td>\n",
       "      <td>30.050434</td>\n",
       "      <td>31.247136</td>\n",
       "      <td>[{'summary': 'This spot is popular', 'type': '...</td>\n",
       "    </tr>\n",
       "    <tr>\n",
       "      <th>42</th>\n",
       "      <td>Vodafone (فودافون)</td>\n",
       "      <td>Mobile Phone Shop</td>\n",
       "      <td>30.050406</td>\n",
       "      <td>31.243780</td>\n",
       "      <td>[{'summary': 'This spot is popular', 'type': '...</td>\n",
       "    </tr>\n",
       "    <tr>\n",
       "      <th>43</th>\n",
       "      <td>Shalaby Hawawshi (حواوشي شلبي)</td>\n",
       "      <td>Egyptian Restaurant</td>\n",
       "      <td>30.053207</td>\n",
       "      <td>31.242935</td>\n",
       "      <td>[{'summary': 'This spot is popular', 'type': '...</td>\n",
       "    </tr>\n",
       "    <tr>\n",
       "      <th>44</th>\n",
       "      <td>Bab El Ward (باب الورد)</td>\n",
       "      <td>Café</td>\n",
       "      <td>30.045493</td>\n",
       "      <td>31.240759</td>\n",
       "      <td>[{'summary': 'This spot is popular', 'type': '...</td>\n",
       "    </tr>\n",
       "    <tr>\n",
       "      <th>45</th>\n",
       "      <td>Talaat Harb Mall (مول طلعت حرب)</td>\n",
       "      <td>Shopping Mall</td>\n",
       "      <td>30.050162</td>\n",
       "      <td>31.239915</td>\n",
       "      <td>[{'summary': 'This spot is popular', 'type': '...</td>\n",
       "    </tr>\n",
       "    <tr>\n",
       "      <th>46</th>\n",
       "      <td>Cook Door</td>\n",
       "      <td>Fast Food Restaurant</td>\n",
       "      <td>30.045938</td>\n",
       "      <td>31.240088</td>\n",
       "      <td>[{'summary': 'This spot is popular', 'type': '...</td>\n",
       "    </tr>\n",
       "    <tr>\n",
       "      <th>47</th>\n",
       "      <td>Egypt Weapons Club (نادى السلاح المصرى)</td>\n",
       "      <td>Sports Club</td>\n",
       "      <td>30.051296</td>\n",
       "      <td>31.247628</td>\n",
       "      <td>[{'summary': 'This spot is popular', 'type': '...</td>\n",
       "    </tr>\n",
       "  </tbody>\n",
       "</table>\n",
       "</div>"
      ],
      "text/plain": [
       "                                                 name            categories  \\\n",
       "0                                      Halawa (حلاوه)        Clothing Store   \n",
       "1                                             Simonds           Coffee Shop   \n",
       "2                                 Happy City Roof Bar             Hotel Bar   \n",
       "3                         Dar El Maaref (دار المعارف)             Bookstore   \n",
       "4                                      El Abd (العبد)           Pastry Shop   \n",
       "5                                        Costa Coffee           Coffee Shop   \n",
       "6                                Kunst Gallery & Cafe                  Café   \n",
       "7                Al Gomhuria Theatre (مسرح الجمهورية)               Theater   \n",
       "8                    Koshary El Tahrir (كشري التحرير)   Egyptian Restaurant   \n",
       "9                                       West El Balad                  Café   \n",
       "10                                     El Abd (العبد)           Pastry Shop   \n",
       "11                                        Eish + Malh    Italian Restaurant   \n",
       "12                                   Koueider (قويدر)           Pastry Shop   \n",
       "13                            El Duplex | Abla Fahita               Theater   \n",
       "14                  Central Cairo (وسط مدينة القاهرة)          Neighborhood   \n",
       "15                                          Nile Cafe                  Café   \n",
       "16                         Fasahet Somaya (فسحة سمية)   Egyptian Restaurant   \n",
       "17                 Baba Abdo Pasta (مكرونة بابا عبده)   Egyptian Restaurant   \n",
       "18                                           Cap D'Or                   Bar   \n",
       "19                                    Kafein (كافيين)                  Café   \n",
       "20                Contemporary Image Collective (CIC)           Art Gallery   \n",
       "21  Abdel Maaboud Coffee Stores (بن عبد المعبود ال...  Herbs & Spices Store   \n",
       "22                            Brazilian Coffee Houses           Coffee Shop   \n",
       "23                                                KFC   Fried Chicken Joint   \n",
       "24                                     Kazaz (القزاز)    Falafel Restaurant   \n",
       "25  El Gomhuria Restaurant (مطعم الجمهورية - حمام ...      Kebab Restaurant   \n",
       "26                                          Le Bistro                Bistro   \n",
       "27                        Zahret Strand (زهرة ستراند)                  Café   \n",
       "28                        Groppi Garden (حديقة جروبي)              Tea Room   \n",
       "29                                      La Poire Cafe          Dessert Shop   \n",
       "30                             100 Copies Space Music           Music Venue   \n",
       "31                       South Corner (الركن الجنوبي)                  Café   \n",
       "32                       Opera Square (ميدان الأوبرا)                 Plaza   \n",
       "33                                         McDonald's  Fast Food Restaurant   \n",
       "34                                    Recota (ريكوتا)              Pie Shop   \n",
       "35                          Al Americaine (الأمريكين)                  Café   \n",
       "36                                           La Chesa      Swiss Restaurant   \n",
       "37                          Al Americaine (الأمريكين)                  Café   \n",
       "38                                               Awan                  Café   \n",
       "39                 Mohamed Farid Sq (ميدان محمد فريد)                 Plaza   \n",
       "40                        Asmak El Nile (اسماك النيل)    Seafood Restaurant   \n",
       "41                       Al Azhar Tunnel (نفق الأزهر)                Tunnel   \n",
       "42                                 Vodafone (فودافون)     Mobile Phone Shop   \n",
       "43                     Shalaby Hawawshi (حواوشي شلبي)   Egyptian Restaurant   \n",
       "44                            Bab El Ward (باب الورد)                  Café   \n",
       "45                    Talaat Harb Mall (مول طلعت حرب)         Shopping Mall   \n",
       "46                                          Cook Door  Fast Food Restaurant   \n",
       "47            Egypt Weapons Club (نادى السلاح المصرى)           Sports Club   \n",
       "\n",
       "          lat        lng                                              items  \n",
       "0   30.050450  31.244201  [{'summary': 'This spot is popular', 'type': '...  \n",
       "1   30.049971  31.242260  [{'summary': 'This spot is popular', 'type': '...  \n",
       "2   30.046346  31.243932  [{'summary': 'This spot is popular', 'type': '...  \n",
       "3   30.050467  31.242328  [{'summary': 'This spot is popular', 'type': '...  \n",
       "4   30.049617  31.239840  [{'summary': 'This spot is popular', 'type': '...  \n",
       "5   30.048983  31.242256  [{'summary': 'This spot is popular', 'type': '...  \n",
       "6   30.049947  31.242113  [{'summary': 'This spot is popular', 'type': '...  \n",
       "7   30.046137  31.246186  [{'summary': 'This spot is popular', 'type': '...  \n",
       "8   30.050429  31.240675  [{'summary': 'This spot is popular', 'type': '...  \n",
       "9   30.047301  31.243266  [{'summary': 'This spot is popular', 'type': '...  \n",
       "10  30.052543  31.242388  [{'summary': 'This spot is popular', 'type': '...  \n",
       "11  30.051188  31.243782  [{'summary': 'This spot is popular', 'type': '...  \n",
       "12  30.051721  31.241295  [{'summary': 'This spot is popular', 'type': '...  \n",
       "13  30.048955  31.239014  [{'summary': 'This spot is popular', 'type': '...  \n",
       "14  30.050702  31.241150  [{'summary': 'This spot is popular', 'type': '...  \n",
       "15  30.048450  31.242726  [{'summary': 'This spot is popular', 'type': '...  \n",
       "16  30.045950  31.240249  [{'summary': 'This spot is popular', 'type': '...  \n",
       "17  30.048856  31.240323  [{'summary': 'This spot is popular', 'type': '...  \n",
       "18  30.050376  31.243429  [{'summary': 'This spot is popular', 'type': '...  \n",
       "19  30.049993  31.242061  [{'summary': 'This spot is popular', 'type': '...  \n",
       "20  30.050612  31.241486  [{'summary': 'This spot is popular', 'type': '...  \n",
       "21  30.045060  31.240909  [{'summary': 'This spot is popular', 'type': '...  \n",
       "22  30.051145  31.240518  [{'summary': 'This spot is popular', 'type': '...  \n",
       "23  30.050829  31.240622  [{'summary': 'This spot is popular', 'type': '...  \n",
       "24  30.047356  31.239167  [{'summary': 'This spot is popular', 'type': '...  \n",
       "25  30.045612  31.240067  [{'summary': 'This spot is popular', 'type': '...  \n",
       "26  30.045764  31.240550  [{'summary': 'This spot is popular', 'type': '...  \n",
       "27  30.044468  31.242461  [{'summary': 'This spot is popular', 'type': '...  \n",
       "28  30.050876  31.245213  [{'summary': 'This spot is popular', 'type': '...  \n",
       "29  30.050434  31.242612  [{'summary': 'This spot is popular', 'type': '...  \n",
       "30  30.049001  31.239026  [{'summary': 'This spot is popular', 'type': '...  \n",
       "31  30.047521  31.241029  [{'summary': 'This spot is popular', 'type': '...  \n",
       "32  30.050664  31.246756  [{'summary': 'This spot is popular', 'type': '...  \n",
       "33  30.051956  31.241425  [{'summary': 'This spot is popular', 'type': '...  \n",
       "34  30.047386  31.240361  [{'summary': 'This spot is popular', 'type': '...  \n",
       "35  30.052561  31.244304  [{'summary': 'This spot is popular', 'type': '...  \n",
       "36  30.051197  31.242703  [{'summary': 'This spot is popular', 'type': '...  \n",
       "37  30.052414  31.241670  [{'summary': 'This spot is popular', 'type': '...  \n",
       "38  30.045621  31.241203  [{'summary': 'This spot is popular', 'type': '...  \n",
       "39  30.045392  31.243947  [{'summary': 'This spot is popular', 'type': '...  \n",
       "40  30.045034  31.241362  [{'summary': 'This spot is popular', 'type': '...  \n",
       "41  30.050434  31.247136  [{'summary': 'This spot is popular', 'type': '...  \n",
       "42  30.050406  31.243780  [{'summary': 'This spot is popular', 'type': '...  \n",
       "43  30.053207  31.242935  [{'summary': 'This spot is popular', 'type': '...  \n",
       "44  30.045493  31.240759  [{'summary': 'This spot is popular', 'type': '...  \n",
       "45  30.050162  31.239915  [{'summary': 'This spot is popular', 'type': '...  \n",
       "46  30.045938  31.240088  [{'summary': 'This spot is popular', 'type': '...  \n",
       "47  30.051296  31.247628  [{'summary': 'This spot is popular', 'type': '...  "
      ]
     },
     "execution_count": 246,
     "metadata": {},
     "output_type": "execute_result"
    }
   ],
   "source": [
    "venues = results['response']['groups'][0]['items']\n",
    "venues\n",
    "nearby_venues = json_normalize(venues) # flatten JSON\n",
    "\n",
    "# filter columns\n",
    "filtered_columns = ['venue.location.city','venue.name', 'venue.categories', 'venue.location.lat', 'venue.location.lng','reasons.items']\n",
    "nearby_venues =nearby_venues.loc[:, filtered_columns]\n",
    "\n",
    "# filter the category for each row\n",
    "nearby_venues['venue.categories'] = nearby_venues.apply(get_category_type, axis=1)\n",
    "\n",
    "# clean columns\n",
    "nearby_venues.columns = [col.split(\".\")[-1] for col in nearby_venues.columns]\n",
    "nearby_venues[nearby_venues['items'].str.contains(\"This spot is popular\") == True]['items'] = 'Popular'\n",
    "nearby_venues.drop(['city'],axis=1,inplace=True)\n",
    "nearby_venues"
   ]
  },
  {
   "cell_type": "code",
   "execution_count": 264,
   "metadata": {},
   "outputs": [
    {
     "ename": "TypeError",
     "evalue": "string indices must be integers",
     "output_type": "error",
     "traceback": [
      "\u001b[0;31m---------------------------------------------------------------------------\u001b[0m",
      "\u001b[0;31mTypeError\u001b[0m                                 Traceback (most recent call last)",
      "\u001b[0;32m<ipython-input-264-e01f4d33e41e>\u001b[0m in \u001b[0;36m<module>\u001b[0;34m\u001b[0m\n\u001b[0;32m----> 1\u001b[0;31m \u001b[0mnearby_venues\u001b[0m\u001b[0;34m(\u001b[0m\u001b[0;34m[\u001b[0m\u001b[0;34m'items'\u001b[0m\u001b[0;34m]\u001b[0m\u001b[0;34m[\u001b[0m\u001b[0;36m0\u001b[0m\u001b[0;34m]\u001b[0m\u001b[0;34m[\u001b[0m\u001b[0;34m'reasons'\u001b[0m\u001b[0;34m]\u001b[0m\u001b[0;34m[\u001b[0m\u001b[0;34m'items'\u001b[0m\u001b[0;34m]\u001b[0m\u001b[0;34m[\u001b[0m\u001b[0;36m0\u001b[0m\u001b[0;34m]\u001b[0m\u001b[0;34m[\u001b[0m\u001b[0;34m'summary'\u001b[0m\u001b[0;34m]\u001b[0m\u001b[0;34m)\u001b[0m\u001b[0;34m.\u001b[0m\u001b[0mstr\u001b[0m\u001b[0;34m.\u001b[0m\u001b[0mcontains\u001b[0m\u001b[0;34m(\u001b[0m\u001b[0;34m\"This spot is popular\"\u001b[0m\u001b[0;34m)\u001b[0m \u001b[0;34m==\u001b[0m \u001b[0;32mTrue\u001b[0m\u001b[0;34m\u001b[0m\u001b[0;34m\u001b[0m\u001b[0m\n\u001b[0m\u001b[1;32m      2\u001b[0m \u001b[0;31m#type(nearby_venues['items'][0])\u001b[0m\u001b[0;34m\u001b[0m\u001b[0;34m\u001b[0m\u001b[0;34m\u001b[0m\u001b[0m\n",
      "\u001b[0;31mTypeError\u001b[0m: string indices must be integers"
     ]
    }
   ],
   "source": [
    "nearby_venues['items'][0]['reasons']['items'][0]['summary'].str.contains(\"This spot is popular\") == True\n",
    "#type(nearby_venues['items'][0])"
   ]
  },
  {
   "cell_type": "code",
   "execution_count": 281,
   "metadata": {},
   "outputs": [
    {
     "data": {
      "text/plain": [
       "'This spot is popular'"
      ]
     },
     "execution_count": 281,
     "metadata": {},
     "output_type": "execute_result"
    }
   ],
   "source": [
    "is_popular(results)"
   ]
  },
  {
   "cell_type": "code",
   "execution_count": 282,
   "metadata": {},
   "outputs": [
    {
     "name": "stdout",
     "output_type": "stream",
     "text": [
      "Solving environment: done\n",
      "\n",
      "# All requested packages already installed.\n",
      "\n"
     ]
    }
   ],
   "source": [
    "!conda install -c conda-forge folium=0.5.0 --yes\n",
    "import folium # plotting library"
   ]
  },
  {
   "cell_type": "markdown",
   "metadata": {},
   "source": [
    "## 10- Plot the results on Cairo map"
   ]
  },
  {
   "cell_type": "code",
   "execution_count": 283,
   "metadata": {},
   "outputs": [
    {
     "data": {
      "text/html": [
       "<div style=\"width:100%;\"><div style=\"position:relative;width:100%;height:0;padding-bottom:60%;\"><iframe src=\"about:blank\" style=\"position:absolute;width:100%;height:100%;left:0;top:0;border:none !important;\" data-html=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 onload=\"this.contentDocument.open();this.contentDocument.write(atob(this.getAttribute('data-html')));this.contentDocument.close();\" allowfullscreen webkitallowfullscreen mozallowfullscreen></iframe></div></div>"
      ],
      "text/plain": [
       "<folium.folium.Map at 0x7f909b1335f8>"
      ]
     },
     "execution_count": 283,
     "metadata": {},
     "output_type": "execute_result"
    }
   ],
   "source": [
    "Cairo_map = folium.Map(location=[30.048819, 31.243666],zoom_start=15)\n",
    "\n",
    "for lat,lng,venue in zip(nearby_venues['lat'],nearby_venues['lng'],nearby_venues['name']):\n",
    "    label = '{}'.format(venue)\n",
    "    label = folium.Popup(label, parse_html=True)\n",
    "    folium.CircleMarker(\n",
    "    [lat,lng],\n",
    "    radius=5,\n",
    "    popup=label,\n",
    "    color='blue',\n",
    "    fill=True,\n",
    "    fill_color='#3186cc',\n",
    "    fill_opacity=0.7,\n",
    "    parse_html=False).add_to(Cairo_map)\n",
    "Cairo_map"
   ]
  }
 ],
 "metadata": {
  "kernelspec": {
   "display_name": "Python 3.6",
   "language": "python",
   "name": "python3"
  },
  "language_info": {
   "codemirror_mode": {
    "name": "ipython",
    "version": 3
   },
   "file_extension": ".py",
   "mimetype": "text/x-python",
   "name": "python",
   "nbconvert_exporter": "python",
   "pygments_lexer": "ipython3",
   "version": "3.6.9"
  }
 },
 "nbformat": 4,
 "nbformat_minor": 1
}
